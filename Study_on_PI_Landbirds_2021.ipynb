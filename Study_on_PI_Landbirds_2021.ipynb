{
 "cells": [
  {
   "cell_type": "markdown",
   "id": "97c58f54",
   "metadata": {},
   "source": [
    "# Study Review\n",
    "\n",
    "## Description\n",
    "\n",
    "In 2021, on the island of Molokai, reserves managed by The Nature Conservancy and the Hawaii Department of Land and Natural Resources; as well as Kalaupapa National Park were surveyed for landbirds and landbird habitat in order to provide information for monitoring long-term trends in forest bird distribution, density, and abundance. Based on the point-transect distance sampling history on Molakai, a 3,527-ha core area was defined to assess long-term population trends since 1979, when the first surveys were conducted. Areas of Kalaupapa National Park were excluded from the core area because of an intermittent survey schedule. However, this dataset provides all of the 2021 survey data including areas inside and outside the core area, which is denoted by “Core_Area”. A summary of the 2021 survey results for the core area and for Kalauapapa National Park will be provided in separate products, such as an NPS National Resource Report and a relevant scientific journal. The 2021 survey effort is expected to be repeated in collaboration with PACN, The Nature Conservancy, the Maui Forest Bird Recovery Project, and the Hawaii Department of Land and Natural Resources every 5-6 years.\n",
    "\n",
    "## Citation \n",
    "Judge S and Kozar K. 2023. Pacific Island Network Molokai Landbird Surveys Dataset 2021. National Park Service. Fort Collins CO https://doi.org/10.57830/2300147\n",
    "\n",
    "## Website for additional Information\n",
    "https://irma.nps.gov/DataStore/Reference/Profile/2300147\n",
    "\n",
    "## Info\n",
    "\n",
    "This is a public dataset from the National Park Service (NPS) regarding Pacific Island Landbirds. This collection is a combination of 14 different CSVs. There is additional data on https://irma.nps.gov/DataStore/Reference/Profile/2300107 regarding years: 2010, 2015/2016, 2019/2020 and partial data for 2011, 2018, 2012, 2017."
   ]
  },
  {
   "cell_type": "code",
   "execution_count": 1,
   "id": "556455ce",
   "metadata": {},
   "outputs": [],
   "source": [
    "# using pandas for cleaning and manipulation\n",
    "import pandas as pd"
   ]
  },
  {
   "cell_type": "code",
   "execution_count": 2,
   "id": "dcb9bc14",
   "metadata": {},
   "outputs": [],
   "source": [
    "# creating a new species table with combined info from species and alt_species tables\n",
    "species = pd.read_csv('Pacific Island Network Landbird Monitoring Dataset/tlu_Species.csv')\n",
    "alt_species = pd.read_csv('Pacific Island Network Landbird Monitoring Dataset/tbl_Species_Alternate_Names.csv')\n",
    "# using merge for the new table\n",
    "full_species = pd.merge(species, alt_species, how=\"inner\", on=\"Species_ID\")"
   ]
  },
  {
   "cell_type": "code",
   "execution_count": 3,
   "id": "9ee52b4c",
   "metadata": {},
   "outputs": [],
   "source": [
    "# creating a new events table with combined info from events and events details tables\n",
    "events = pd.read_csv('Pacific Island Network Landbird Monitoring Dataset/tbl_Events.csv')\n",
    "events_details = pd.read_csv('Pacific Island Network Landbird Monitoring Dataset/tbl_Event_Details.csv')\n",
    "full_events = pd.merge(events, events_details, how=\"inner\", on=\"Event_ID\")"
   ]
  },
  {
   "cell_type": "markdown",
   "id": "6b634bc7",
   "metadata": {},
   "source": [
    "## Begin cleaning tables:\n",
    "    - create new tables with reduced columns as determined by the er diagram ✅\n",
    "    - remove null records ✅\n",
    "    - reset indices ✅\n",
    "    - add CSVs to dictionary ✅"
   ]
  },
  {
   "cell_type": "code",
   "execution_count": 4,
   "id": "02b1a8d4",
   "metadata": {},
   "outputs": [],
   "source": [
    "df_dict = {}"
   ]
  },
  {
   "cell_type": "code",
   "execution_count": 5,
   "id": "3ccab7e7",
   "metadata": {},
   "outputs": [],
   "source": [
    "# full_species\n",
    "    # remove Source, TE_Status, BNA_Account, Updated_Date, Update_By, Update_Notes\n",
    "    # remove null records when Scientific_Name is blank\n",
    "clean_species = full_species.drop(columns=['Source', 'TE_Status', 'BNA_Account', 'Updated_Date', 'Update_By', 'Update_Notes'])\n",
    "clean_species = clean_species.dropna(subset=['Scientific_Name'])\n",
    "clean_species = clean_species[clean_species['Family']!= 'None']\n",
    "clean_species.reset_index()\n",
    "df_dict.update({'clean_species':clean_species})"
   ]
  },
  {
   "cell_type": "code",
   "execution_count": 6,
   "id": "fe26f040",
   "metadata": {},
   "outputs": [],
   "source": [
    "# full_events\n",
    "    # remove P1:P10, Protocol_Name, Repeat_Sample, Habitat_Date, Event_Notes, Entered_By, Updated_By, Updated_Date, \n",
    "        # Verified, Verified_By, Verified_Date, Certified, Certified_By, Certified_Date, QA_Notes\n",
    "    # remove null records when Start_Date is blank\n",
    "clean_events = full_events.drop(columns=['P1', 'P2', 'P3', 'P4', 'P5', 'P6', 'P7', 'P8', 'P9', 'P10', 'Protocol_Name', 'Repeat_Sample', 'Habitat_Date', 'Event_Notes', 'Entered_By', 'Updated_By', 'Updated_Date', 'Verified', 'Verified_By', 'Verified_Date', 'Certified', 'Certified_By', 'Certified_Date', 'QA_notes'])\n",
    "clean_events = clean_events.dropna(subset=['Start_Date'])\n",
    "clean_events.reset_index()\n",
    "df_dict.update({'clean_events':clean_events})"
   ]
  },
  {
   "cell_type": "code",
   "execution_count": 7,
   "id": "3365841a",
   "metadata": {},
   "outputs": [],
   "source": [
    "# tbl_Detections\n",
    "    # remove null records when Detection is blank\n",
    "tbl_Detections = pd.read_csv('Pacific Island Network Landbird Monitoring Dataset/tbl_Detections.csv')\n",
    "clean_detections = tbl_Detections.dropna(subset=['Detection'])\n",
    "clean_detections.reset_index()\n",
    "df_dict.update({'clean_detections':clean_detections})"
   ]
  },
  {
   "cell_type": "code",
   "execution_count": 8,
   "id": "34f2d94a",
   "metadata": {},
   "outputs": [],
   "source": [
    "# tbl_Habitat\n",
    "    # remove Canopy_Cover, Canopy_Height, Canopy_Comp, Understory_Comp, Noted_Canopy_Spp_Common, Noted_Canopy_Spp_Scientific \n",
    "    # remove null records when Event_ID is blank\n",
    "tbl_Habitat = pd.read_csv('Pacific Island Network Landbird Monitoring Dataset/tbl_Habitat.csv')\n",
    "clean_habitat = tbl_Habitat.drop(columns=['Canopy_Cover', 'Canopy_Height', 'Canopy_Comp', 'Understory_Comp', 'Noted_Canopy_Spp_Common', 'Noted_Canopy_Spp_Scientific'])\n",
    "clean_habitat = clean_habitat.dropna(subset=['Event_ID'])\n",
    "clean_habitat.reset_index()\n",
    "df_dict.update({'clean_habitat':clean_habitat})"
   ]
  },
  {
   "cell_type": "code",
   "execution_count": 9,
   "id": "febec40c",
   "metadata": {},
   "outputs": [],
   "source": [
    "# tbl_Locations\n",
    "clean_locations = pd.read_csv('Pacific Island Network Landbird Monitoring Dataset/tbl_Locations.csv')\n",
    "df_dict.update({'clean_locations':clean_locations})"
   ]
  },
  {
   "cell_type": "code",
   "execution_count": 10,
   "id": "e377f13d",
   "metadata": {},
   "outputs": [],
   "source": [
    "# tbl_Observations\n",
    "    # remove null records when Species_ID or Event_ID is blank\n",
    "tbl_Observations = pd.read_csv('Pacific Island Network Landbird Monitoring Dataset/tbl_Observations.csv')\n",
    "clean_observations = tbl_Observations.dropna(subset=['Species_ID', 'Event_ID'])\n",
    "clean_observations.reset_index()\n",
    "df_dict.update({'clean_observations':clean_observations})"
   ]
  },
  {
   "cell_type": "code",
   "execution_count": 11,
   "id": "1040e6b4",
   "metadata": {},
   "outputs": [],
   "source": [
    "# tbl_Sites\n",
    "clean_sites = pd.read_csv('Pacific Island Network Landbird Monitoring Dataset/tbl_Sites.csv')\n",
    "df_dict.update({'clean_sites':clean_sites})"
   ]
  },
  {
   "cell_type": "code",
   "execution_count": 12,
   "id": "374766bf",
   "metadata": {},
   "outputs": [],
   "source": [
    "# tbl_Stations\n",
    "    # remove Lat_Dir, Long_Dir, Geo_Datum, Updated_Date, Updated_by, Updated_notes\n",
    "    # remove null records when Station is blank\n",
    "tbl_Stations = pd.read_csv('Pacific Island Network Landbird Monitoring Dataset/tbl_Stations.csv')\n",
    "clean_stations = tbl_Stations.drop(columns=['Lat_Dir', 'Long_Dir', 'Geo_Datum', 'Updated_Date', 'Updated_by', 'Updated_notes'])\n",
    "clean_stations = clean_stations.dropna(subset=['Station'])\n",
    "clean_stations.reset_index()\n",
    "df_dict.update({'clean_stations':clean_stations})"
   ]
  },
  {
   "cell_type": "code",
   "execution_count": 13,
   "id": "dbdd18f6",
   "metadata": {},
   "outputs": [],
   "source": [
    "# tbl_Transects\n",
    "    # remove Transect_Type, Updated_Date, Updated_By, Updated_Notes\n",
    "    # remove null records when Location_ID or Transect is blank\n",
    "tbl_Transects = pd.read_csv('Pacific Island Network Landbird Monitoring Dataset/tbl_Transects.csv')\n",
    "clean_transects = tbl_Transects.drop(columns=['Transect_Type', 'Updated_Date', 'Updated_By', 'Updated_Notes'])\n",
    "clean_transects = clean_transects.dropna(subset=['Location_ID', 'Transect'])\n",
    "clean_transects.reset_index()\n",
    "df_dict.update({'clean_transects':clean_transects})"
   ]
  },
  {
   "cell_type": "markdown",
   "id": "cd46d50b",
   "metadata": {},
   "source": [
    "## Return out clean CSVs for future use"
   ]
  },
  {
   "cell_type": "code",
   "execution_count": 14,
   "id": "23a39456",
   "metadata": {},
   "outputs": [],
   "source": [
    "for csv in df_dict:\n",
    "    df_dict[csv].to_csv('{}.csv'.format(csv))    "
   ]
  }
 ],
 "metadata": {
  "kernelspec": {
   "display_name": "Python 3 (ipykernel)",
   "language": "python",
   "name": "python3"
  },
  "language_info": {
   "codemirror_mode": {
    "name": "ipython",
    "version": 3
   },
   "file_extension": ".py",
   "mimetype": "text/x-python",
   "name": "python",
   "nbconvert_exporter": "python",
   "pygments_lexer": "ipython3",
   "version": "3.10.9"
  }
 },
 "nbformat": 4,
 "nbformat_minor": 5
}
